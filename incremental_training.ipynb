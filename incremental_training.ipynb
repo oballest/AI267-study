{
 "cells": [
  {
   "cell_type": "code",
   "execution_count": 1,
   "id": "afdfe191-de4a-444c-ae12-4b8654bf5771",
   "metadata": {
    "tags": []
   },
   "outputs": [],
   "source": [
    "import pandas as pd\n",
    "\n",
    "from sklearn.naive_bayes import GaussianNB\n",
    "from sklearn.model_selection import train_test_split\n",
    "from sklearn.metrics import classification_report\n",
    "\n"
   ]
  },
  {
   "cell_type": "code",
   "execution_count": 6,
   "id": "a756b483-ba31-4bc2-ac01-8c16f3551f29",
   "metadata": {
    "tags": []
   },
   "outputs": [],
   "source": [
    "data = pd.read_csv('dataset.csv')\n",
    "\n",
    "train_data, test_data = train_test_split(data, test_size = 0.2, random_state = 0)\n",
    "\n",
    "train_data.to_csv(\"train_subset.csv\", index=False)\n",
    "test_data.to_csv(\"test_subset.csv\", index=False)"
   ]
  },
  {
   "cell_type": "code",
   "execution_count": 7,
   "id": "cec0ef78-0ecf-4327-90db-9fb1594e4296",
   "metadata": {
    "tags": []
   },
   "outputs": [],
   "source": [
    "def preprocess(df):\n",
    "    variations = [df]\n",
    "    for i in range(10000):\n",
    "        variations.append(df.copy() * i)\n",
    "\n",
    "    df_extended = pd.concat(variations, axis=1)\n",
    "\n",
    "    return df_extended"
   ]
  },
  {
   "cell_type": "code",
   "execution_count": 10,
   "id": "260403fe-6600-418f-b615-42c644ffed96",
   "metadata": {
    "tags": []
   },
   "outputs": [
    {
     "name": "stdout",
     "output_type": "stream",
     "text": [
      "Training batch 1 done\n",
      "Training batch 2 done\n",
      "Training batch 3 done\n",
      "Training batch 4 done\n",
      "Training batch 5 done\n",
      "Training batch 6 done\n",
      "Training batch 7 done\n",
      "Training batch 8 done\n"
     ]
    }
   ],
   "source": [
    "model = GaussianNB()\n",
    "\n",
    "iteraciones = 0\n",
    "for batch in pd.read_csv(\"train_subset.csv\", chunksize=1000):\n",
    "    X = batch.drop('target', axis=1)\n",
    "    y = batch['target']\n",
    "    X_processed = preprocess(X)\n",
    "    model.partial_fit(X_processed, y, classes=y.unique())\n",
    "    \n",
    "    iteraciones +=1\n",
    "    print(f\"Training batch {iteraciones} done\")"
   ]
  },
  {
   "cell_type": "code",
   "execution_count": 11,
   "id": "a5850f9b-63fc-45f9-bc28-1773913b2184",
   "metadata": {
    "tags": []
   },
   "outputs": [
    {
     "name": "stdout",
     "output_type": "stream",
     "text": [
      "Classification report:\n",
      "              precision    recall  f1-score   support\n",
      "\n",
      "           0       0.70      0.85      0.77      1003\n",
      "           1       0.81      0.63      0.71       997\n",
      "\n",
      "    accuracy                           0.74      2000\n",
      "   macro avg       0.76      0.74      0.74      2000\n",
      "weighted avg       0.76      0.74      0.74      2000\n",
      "\n"
     ]
    }
   ],
   "source": [
    "test_data = pd.read_csv(\"test_subset.csv\")\n",
    "X_test = test_data.drop('target', axis=1)\n",
    "y_test = test_data['target']\n",
    "\n",
    "y_predicted = model.predict(preprocess(X_test))\n",
    "\n",
    "print(\"Classification report:\")\n",
    "print(classification_report(y_test, y_predicted))"
   ]
  }
 ],
 "metadata": {
  "kernelspec": {
   "display_name": "Python 3.9",
   "language": "python",
   "name": "python3"
  },
  "language_info": {
   "codemirror_mode": {
    "name": "ipython",
    "version": 3
   },
   "file_extension": ".py",
   "mimetype": "text/x-python",
   "name": "python",
   "nbconvert_exporter": "python",
   "pygments_lexer": "ipython3",
   "version": "3.9.16"
  }
 },
 "nbformat": 4,
 "nbformat_minor": 5
}
